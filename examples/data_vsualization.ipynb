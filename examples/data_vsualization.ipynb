{
 "cells": [
  {
   "cell_type": "code",
   "execution_count": 37,
   "id": "2e6dbd33-efe4-40f5-8ea3-4a62549b1a03",
   "metadata": {},
   "outputs": [],
   "source": [
    "import numpy as np\n",
    "import pandas as pd"
   ]
  },
  {
   "cell_type": "code",
   "execution_count": 38,
   "id": "a4288932-392b-404b-9207-466307137dd5",
   "metadata": {},
   "outputs": [],
   "source": [
    "df = pd.read_csv(\"/home/pdutta/Data/DGCCA/TCGA_BRCA/methyl_rnaseq_mirna_minmax.tsv\", sep = \"\\t\", header =None)"
   ]
  },
  {
   "cell_type": "code",
   "execution_count": 39,
   "id": "ce7c3809-474e-4d20-89d7-8492cbeff50c",
   "metadata": {},
   "outputs": [
    {
     "data": {
      "text/plain": [
       "(1233, 7)"
      ]
     },
     "execution_count": 39,
     "metadata": {},
     "output_type": "execute_result"
    }
   ],
   "source": [
    "df.shape"
   ]
  },
  {
   "cell_type": "code",
   "execution_count": 40,
   "id": "23bdab1c-a81e-4777-bf48-19f0282442d2",
   "metadata": {},
   "outputs": [
    {
     "data": {
      "text/plain": [
       "0                                                    2\n",
       "1                                                    1\n",
       "2                                                    1\n",
       "3                                                    1\n",
       "4    0.87885 0.232442857142857 0.483266666666667 0....\n",
       "5    0.457571944960358 0.0561540943639753 0.4243162...\n",
       "6    0.413344546800887 0.442280601231046 0.29066670...\n",
       "Name: 1, dtype: object"
      ]
     },
     "execution_count": 40,
     "metadata": {},
     "output_type": "execute_result"
    }
   ],
   "source": [
    "df.iloc[1,0:7]"
   ]
  },
  {
   "cell_type": "code",
   "execution_count": 47,
   "id": "5977db5f-9abe-4260-a141-dab42023a69f",
   "metadata": {},
   "outputs": [],
   "source": [
    "X_feature_list =  []\n",
    "Y_feature_list =  []\n",
    "Z_feature_list =  []"
   ]
  },
  {
   "cell_type": "code",
   "execution_count": 48,
   "id": "0d9fdbe9-a8a6-4245-8cc7-1bf29129f139",
   "metadata": {},
   "outputs": [],
   "source": [
    "for i in range(0,1233):\n",
    "    #print (len(df.iloc[i, 4]), len(df.iloc[i, 5]), len(df.iloc[i, 6]))\n",
    "    #print (len(df.iloc[i, 4].split()), len(df.iloc[i, 5].split()), len(df.iloc[i, 6].split()))\n",
    "    X_feature_list.append(df.iloc[i, 4].split()), Y_feature_list.append(df.iloc[i, 5].split()), Z_feature_list.append(df.iloc[i, 6].split())"
   ]
  },
  {
   "cell_type": "code",
   "execution_count": 49,
   "id": "df92ba6c-7fc6-4157-8fc4-ba4f940a920e",
   "metadata": {},
   "outputs": [],
   "source": [
    "X_features= np.array([[float(i) for i in row] for row in X_feature_list])\n",
    "Y_features= np.array([[float(i) for i in row] for row in Y_feature_list])\n",
    "Z_features= np.array([[float(i) for i in row] for row in Z_feature_list])"
   ]
  },
  {
   "cell_type": "code",
   "execution_count": 50,
   "id": "f6a0239f-d20a-477f-9ea6-b4212fb9975b",
   "metadata": {},
   "outputs": [
    {
     "name": "stdout",
     "output_type": "stream",
     "text": [
      "(1233, 19729) (1233, 16618) (1233, 225)\n"
     ]
    }
   ],
   "source": [
    "print(X_features.shape, Y_features.shape, Z_features.shape)"
   ]
  },
  {
   "cell_type": "code",
   "execution_count": 24,
   "id": "47a62d59-801e-4c8a-90bf-ca2ec04099e1",
   "metadata": {},
   "outputs": [
    {
     "data": {
      "text/plain": [
       "array([[0.455425  , 0.1605875 , 0.4339    , ..., 0.12169   , 0.04055   ,\n",
       "        0.05409091],\n",
       "       [0.87885   , 0.23244286, 0.48326667, ..., 0.13736   , 0.03956429,\n",
       "        0.05444545],\n",
       "       [0.832575  , 0.33465714, 0.66916667, ..., 0.13335   , 0.03949286,\n",
       "        0.0505    ],\n",
       "       ...,\n",
       "       [0.8182    , 0.3063375 , 0.60865   , ..., 0.08371   , 0.03006429,\n",
       "        0.045675  ],\n",
       "       [0.832375  , 0.340525  , 0.71351667, ..., 0.13857   , 0.04103571,\n",
       "        0.05099091],\n",
       "       [0.686375  , 0.3401125 , 0.43945   , ..., 0.16096   , 0.02704286,\n",
       "        0.03869167]])"
      ]
     },
     "execution_count": 24,
     "metadata": {},
     "output_type": "execute_result"
    }
   ],
   "source": [
    "X_features"
   ]
  },
  {
   "cell_type": "code",
   "execution_count": null,
   "id": "f3b20475-bdc4-4c1a-a0b4-8cfc7f8cd9de",
   "metadata": {},
   "outputs": [],
   "source": []
  }
 ],
 "metadata": {
  "kernelspec": {
   "display_name": "Python 3",
   "language": "python",
   "name": "python3"
  },
  "language_info": {
   "codemirror_mode": {
    "name": "ipython",
    "version": 3
   },
   "file_extension": ".py",
   "mimetype": "text/x-python",
   "name": "python",
   "nbconvert_exporter": "python",
   "pygments_lexer": "ipython3",
   "version": "3.7.11"
  }
 },
 "nbformat": 4,
 "nbformat_minor": 5
}
