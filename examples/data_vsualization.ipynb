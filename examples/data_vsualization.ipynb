{
 "cells": [
  {
   "cell_type": "code",
   "execution_count": 13,
   "id": "2e6dbd33-efe4-40f5-8ea3-4a62549b1a03",
   "metadata": {},
   "outputs": [],
   "source": [
    "import numpy as np\n",
    "import pandas as pd"
   ]
  },
  {
   "cell_type": "code",
   "execution_count": 14,
   "id": "a4288932-392b-404b-9207-466307137dd5",
   "metadata": {},
   "outputs": [],
   "source": [
    "df = pd.read_csv(\"/home/pdutta/Data/DGCCA/TCGA_LUAD/methyl_rnaseq_mirna_minmax.tsv\", sep = \"\\t\", header =None)"
   ]
  },
  {
   "cell_type": "code",
   "execution_count": 15,
   "id": "ce7c3809-474e-4d20-89d7-8492cbeff50c",
   "metadata": {},
   "outputs": [
    {
     "data": {
      "text/plain": [
       "617"
      ]
     },
     "execution_count": 15,
     "metadata": {},
     "output_type": "execute_result"
    }
   ],
   "source": [
    "df.shape\n",
    "len(df)"
   ]
  },
  {
   "cell_type": "code",
   "execution_count": 16,
   "id": "23bdab1c-a81e-4777-bf48-19f0282442d2",
   "metadata": {},
   "outputs": [
    {
     "data": {
      "text/plain": [
       "0                                                    2\n",
       "1                                                    0\n",
       "2                                                    1\n",
       "3                                                    0\n",
       "4    0 0 0 0 0 0 0 0 0 0 0 0 0 0 0 0 0 0 0 0 0 0 0 ...\n",
       "5    0.581649953979557 0.359565213508034 0.65264532...\n",
       "6    0 0 0 0 0 0 0 0 0 0 0 0 0 0 0 0 0 0 0 0 0 0 0 ...\n",
       "Name: 1, dtype: object"
      ]
     },
     "execution_count": 16,
     "metadata": {},
     "output_type": "execute_result"
    }
   ],
   "source": [
    "df.iloc[1,0:7]"
   ]
  },
  {
   "cell_type": "code",
   "execution_count": 17,
   "id": "5977db5f-9abe-4260-a141-dab42023a69f",
   "metadata": {},
   "outputs": [],
   "source": [
    "X_feature_list =  []\n",
    "Y_feature_list =  []\n",
    "Z_feature_list =  []"
   ]
  },
  {
   "cell_type": "code",
   "execution_count": 18,
   "id": "0d9fdbe9-a8a6-4245-8cc7-1bf29129f139",
   "metadata": {},
   "outputs": [],
   "source": [
    "for i in range(0,len(df)):\n",
    "    #print (len(df.iloc[i, 4]), len(df.iloc[i, 5]), len(df.iloc[i, 6]))\n",
    "    #print (len(df.iloc[i, 4].split()), len(df.iloc[i, 5].split()), len(df.iloc[i, 6].split()))\n",
    "    X_feature_list.append(df.iloc[i, 4].split()), Y_feature_list.append(df.iloc[i, 5].split()), Z_feature_list.append(df.iloc[i, 6].split())"
   ]
  },
  {
   "cell_type": "code",
   "execution_count": 19,
   "id": "df92ba6c-7fc6-4157-8fc4-ba4f940a920e",
   "metadata": {},
   "outputs": [],
   "source": [
    "X_features= np.array([[float(i) for i in row] for row in X_feature_list])\n",
    "Y_features= np.array([[float(i) for i in row] for row in Y_feature_list])\n",
    "Z_features= np.array([[float(i) for i in row] for row in Z_feature_list])"
   ]
  },
  {
   "cell_type": "code",
   "execution_count": 20,
   "id": "f6a0239f-d20a-477f-9ea6-b4212fb9975b",
   "metadata": {},
   "outputs": [
    {
     "name": "stdout",
     "output_type": "stream",
     "text": [
      "(617, 19924) (617, 16630) (617, 220)\n"
     ]
    }
   ],
   "source": [
    "print(X_features.shape, Y_features.shape, Z_features.shape)"
   ]
  },
  {
   "cell_type": "code",
   "execution_count": 21,
   "id": "47a62d59-801e-4c8a-90bf-ca2ec04099e1",
   "metadata": {},
   "outputs": [
    {
     "data": {
      "text/plain": [
       "array([[0.        , 0.        , 0.        , ..., 0.        , 0.        ,\n",
       "        0.        ],\n",
       "       [0.        , 0.        , 0.        , ..., 0.        , 0.        ,\n",
       "        0.        ],\n",
       "       [0.        , 0.        , 0.        , ..., 0.        , 0.        ,\n",
       "        0.        ],\n",
       "       ...,\n",
       "       [0.7467    , 0.5329125 , 0.49101667, ..., 0.14499   , 0.0459    ,\n",
       "        0.045675  ],\n",
       "       [0.836925  , 0.2763625 , 0.62936667, ..., 0.1444    , 0.06447857,\n",
       "        0.076025  ],\n",
       "       [0.727075  , 0.5015375 , 0.6255    , ..., 0.12028   , 0.04839286,\n",
       "        0.04536667]])"
      ]
     },
     "execution_count": 21,
     "metadata": {},
     "output_type": "execute_result"
    }
   ],
   "source": [
    "X_features"
   ]
  },
  {
   "cell_type": "code",
   "execution_count": 1,
   "id": "f3b20475-bdc4-4c1a-a0b4-8cfc7f8cd9de",
   "metadata": {},
   "outputs": [
    {
     "data": {
      "text/plain": [
       "[5, 6, 7, 8, 9, 10]"
      ]
     },
     "execution_count": 1,
     "metadata": {},
     "output_type": "execute_result"
    }
   ],
   "source": [
    "list1= [1,2,3,4,5,6,7,8,9,10]\n",
    "list1[4:]"
   ]
  },
  {
   "cell_type": "code",
   "execution_count": null,
   "id": "85aa240c-7429-453b-b8b7-a64d2518ad5c",
   "metadata": {},
   "outputs": [],
   "source": []
  }
 ],
 "metadata": {
  "kernelspec": {
   "display_name": "Python 3 (ipykernel)",
   "language": "python",
   "name": "python3"
  },
  "language_info": {
   "codemirror_mode": {
    "name": "ipython",
    "version": 3
   },
   "file_extension": ".py",
   "mimetype": "text/x-python",
   "name": "python",
   "nbconvert_exporter": "python",
   "pygments_lexer": "ipython3",
   "version": "3.10.4"
  }
 },
 "nbformat": 4,
 "nbformat_minor": 5
}
