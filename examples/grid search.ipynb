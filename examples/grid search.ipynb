{
 "cells": [
  {
   "cell_type": "code",
   "execution_count": 3,
   "id": "2d96972a-d0ef-493c-bc36-cf7687361215",
   "metadata": {},
   "outputs": [],
   "source": [
    "from sklearn import svm, datasets\n",
    "from sklearn.model_selection import GridSearchCV"
   ]
  },
  {
   "cell_type": "code",
   "execution_count": 4,
   "id": "05f86d1e-569f-4c95-8b6d-595b00dcf134",
   "metadata": {},
   "outputs": [],
   "source": [
    "iris = datasets.load_iris()"
   ]
  },
  {
   "cell_type": "code",
   "execution_count": 14,
   "id": "4f268576-150c-446c-a3d2-085083e9fa8e",
   "metadata": {},
   "outputs": [
    {
     "data": {
      "text/plain": [
       "150"
      ]
     },
     "execution_count": 14,
     "metadata": {},
     "output_type": "execute_result"
    }
   ],
   "source": [
    "len(iris['data'])"
   ]
  },
  {
   "cell_type": "code",
   "execution_count": 15,
   "id": "cdabb294-0194-48fc-a314-a497f1237659",
   "metadata": {},
   "outputs": [],
   "source": [
    "parameters = {'kernel':('linear', 'rbf'), 'C':[1, 10]}"
   ]
  },
  {
   "cell_type": "code",
   "execution_count": 16,
   "id": "b2b64c95-b590-4f7e-bb80-c9b8119cf816",
   "metadata": {},
   "outputs": [
    {
     "data": {
      "text/plain": [
       "{'kernel': ('linear', 'rbf'), 'C': [1, 10]}"
      ]
     },
     "execution_count": 16,
     "metadata": {},
     "output_type": "execute_result"
    }
   ],
   "source": [
    "parameters"
   ]
  },
  {
   "cell_type": "code",
   "execution_count": 18,
   "id": "c6388712-ede7-49a0-9c51-29463ab18246",
   "metadata": {},
   "outputs": [
    {
     "data": {
      "text/plain": [
       "GridSearchCV(estimator=SVC(),\n",
       "             param_grid={'C': [1, 10], 'kernel': ('linear', 'rbf')})"
      ]
     },
     "execution_count": 18,
     "metadata": {},
     "output_type": "execute_result"
    }
   ],
   "source": [
    "svc = svm.SVC()\n",
    "clf = GridSearchCV(svc, parameters)\n",
    "clf.fit(iris.data, iris.target)"
   ]
  },
  {
   "cell_type": "code",
   "execution_count": 20,
   "id": "a89f1aa2-5fde-4b35-b8d2-c4cd0ab28e5e",
   "metadata": {},
   "outputs": [
    {
     "data": {
      "text/plain": [
       "{'mean_fit_time': array([0.00081649, 0.00094705, 0.00060015, 0.00070658]),\n",
       " 'std_fit_time': array([3.92948729e-04, 8.00969195e-05, 6.48469433e-05, 2.71891695e-05]),\n",
       " 'mean_score_time': array([0.00037241, 0.00061135, 0.00032158, 0.00038209]),\n",
       " 'std_score_time': array([8.50611201e-05, 8.19510103e-05, 3.35743478e-05, 1.03074062e-05]),\n",
       " 'param_C': masked_array(data=[1, 1, 10, 10],\n",
       "              mask=[False, False, False, False],\n",
       "        fill_value='?',\n",
       "             dtype=object),\n",
       " 'param_kernel': masked_array(data=['linear', 'rbf', 'linear', 'rbf'],\n",
       "              mask=[False, False, False, False],\n",
       "        fill_value='?',\n",
       "             dtype=object),\n",
       " 'params': [{'C': 1, 'kernel': 'linear'},\n",
       "  {'C': 1, 'kernel': 'rbf'},\n",
       "  {'C': 10, 'kernel': 'linear'},\n",
       "  {'C': 10, 'kernel': 'rbf'}],\n",
       " 'split0_test_score': array([0.96666667, 0.96666667, 1.        , 0.96666667]),\n",
       " 'split1_test_score': array([1.        , 0.96666667, 1.        , 1.        ]),\n",
       " 'split2_test_score': array([0.96666667, 0.96666667, 0.9       , 0.96666667]),\n",
       " 'split3_test_score': array([0.96666667, 0.93333333, 0.96666667, 0.96666667]),\n",
       " 'split4_test_score': array([1., 1., 1., 1.]),\n",
       " 'mean_test_score': array([0.98      , 0.96666667, 0.97333333, 0.98      ]),\n",
       " 'std_test_score': array([0.01632993, 0.02108185, 0.03887301, 0.01632993]),\n",
       " 'rank_test_score': array([1, 4, 3, 1], dtype=int32)}"
      ]
     },
     "execution_count": 20,
     "metadata": {},
     "output_type": "execute_result"
    }
   ],
   "source": [
    "clf.cv_results_"
   ]
  },
  {
   "cell_type": "code",
   "execution_count": 27,
   "id": "a3061b86-51a3-432a-b4e3-4df42440cb68",
   "metadata": {},
   "outputs": [],
   "source": [
    "import random\n",
    "import \n",
    "for i in range(0, 9):\n",
    "    globals()[f\"my_variable{i}\"] = random.random()"
   ]
  },
  {
   "cell_type": "code",
   "execution_count": 28,
   "id": "7adb4923-74c2-4f71-b588-17884599af12",
   "metadata": {},
   "outputs": [
    {
     "data": {
      "text/plain": [
       "0.6234841617410264"
      ]
     },
     "execution_count": 28,
     "metadata": {},
     "output_type": "execute_result"
    }
   ],
   "source": [
    "my_variable3"
   ]
  },
  {
   "cell_type": "code",
   "execution_count": 29,
   "id": "d5685f1c-2b98-4bb0-b5d5-2cc9ea4b6a69",
   "metadata": {},
   "outputs": [
    {
     "name": "stdout",
     "output_type": "stream",
     "text": [
      "0.9932547018172146\n",
      "0.9062231527723462\n",
      "0.8402328671564873\n",
      "0.6234841617410264\n",
      "0.7368172848722175\n",
      "0.2811451290996517\n",
      "0.7286192258214614\n",
      "0.3418394450404998\n",
      "0.8775157008387043\n"
     ]
    }
   ],
   "source": [
    "for i in range(0, 9):\n",
    "    print(globals()[f\"my_variable{i}\"])"
   ]
  },
  {
   "cell_type": "code",
   "execution_count": 30,
   "id": "8c4637d9-bd17-4966-b603-63ecf3f70e06",
   "metadata": {},
   "outputs": [],
   "source": [
    "string = '[[1000,500]_[900,400]_[200,150]]'"
   ]
  },
  {
   "cell_type": "code",
   "execution_count": null,
   "id": "6ae528b1-a3eb-40de-9b90-e9627df25fde",
   "metadata": {},
   "outputs": [],
   "source": [
    "string.lstrip('[')\n",
    "string.rstrip("
   ]
  },
  {
   "cell_type": "code",
   "execution_count": 34,
   "id": "46250eb4-3a1d-4e5e-bf1d-104c5d45d319",
   "metadata": {},
   "outputs": [
    {
     "data": {
      "text/plain": [
       "['[[1000,500],[900,400],[200,150]]']"
      ]
     },
     "execution_count": 34,
     "metadata": {},
     "output_type": "execute_result"
    }
   ],
   "source": [
    "list(string.split('_'))"
   ]
  },
  {
   "cell_type": "code",
   "execution_count": 37,
   "id": "3bee85e5-7da5-4cf7-a36b-a249c8e0a5e6",
   "metadata": {},
   "outputs": [
    {
     "data": {
      "text/plain": [
       "_StoreAction(option_strings=['--list'], dest='list', nargs='+', const=None, default=['a', 'b'], type=None, choices=None, help=None, metavar=None)"
      ]
     },
     "execution_count": 37,
     "metadata": {},
     "output_type": "execute_result"
    }
   ],
   "source": [
    "import argparse\n",
    "parser = argparse.ArgumentParser()\n",
    "parser.add_argument(\"--list\", nargs=\"+\", default=[\"a\", \"b\"])"
   ]
  },
  {
   "cell_type": "code",
   "execution_count": 38,
   "id": "230ff300-f2b9-41d4-afef-2f9d2262dda3",
   "metadata": {},
   "outputs": [
    {
     "name": "stderr",
     "output_type": "stream",
     "text": [
      "usage: ipykernel_launcher.py [-h] [--list LIST [LIST ...]]\n",
      "ipykernel_launcher.py: error: unrecognized arguments: -f /home/pdutta/.local/share/jupyter/runtime/kernel-86f4efc2-b254-480b-a7fa-540b50fccaca.json\n"
     ]
    },
    {
     "ename": "SystemExit",
     "evalue": "2",
     "output_type": "error",
     "traceback": [
      "An exception has occurred, use %tb to see the full traceback.\n",
      "\u001b[0;31mSystemExit\u001b[0m\u001b[0;31m:\u001b[0m 2\n"
     ]
    }
   ],
   "source": [
    "value = parser.parse_args()"
   ]
  },
  {
   "cell_type": "code",
   "execution_count": 39,
   "id": "26c0dd26-a729-4c4c-bd9c-bf4acafc3edb",
   "metadata": {},
   "outputs": [
    {
     "ename": "NameError",
     "evalue": "name 'value' is not defined",
     "output_type": "error",
     "traceback": [
      "\u001b[0;31m---------------------------------------------------------------------------\u001b[0m",
      "\u001b[0;31mNameError\u001b[0m                                 Traceback (most recent call last)",
      "\u001b[0;32m<ipython-input-39-66ac39000706>\u001b[0m in \u001b[0;36m<module>\u001b[0;34m\u001b[0m\n\u001b[0;32m----> 1\u001b[0;31m \u001b[0mprint\u001b[0m\u001b[0;34m(\u001b[0m\u001b[0mvalue\u001b[0m\u001b[0;34m.\u001b[0m\u001b[0mlist\u001b[0m\u001b[0;34m)\u001b[0m\u001b[0;34m\u001b[0m\u001b[0;34m\u001b[0m\u001b[0m\n\u001b[0m",
      "\u001b[0;31mNameError\u001b[0m: name 'value' is not defined"
     ]
    }
   ],
   "source": [
    "print(value.list)"
   ]
  },
  {
   "cell_type": "code",
   "execution_count": 40,
   "id": "5a9cd92f-6e6a-45a5-83db-9ee7a91cbfe8",
   "metadata": {},
   "outputs": [],
   "source": [
    "import json"
   ]
  },
  {
   "cell_type": "code",
   "execution_count": 44,
   "id": "aae0faa6-db25-47ef-9de3-de280e5585f4",
   "metadata": {},
   "outputs": [],
   "source": [
    "netarc = json.loads('[[1000,500],[900,400],[200,150]]')"
   ]
  },
  {
   "cell_type": "code",
   "execution_count": 45,
   "id": "e9159e56-c14f-4179-aa3a-5ac926d0287f",
   "metadata": {},
   "outputs": [
    {
     "data": {
      "text/plain": [
       "[[1000, 500], [900, 400], [200, 150]]"
      ]
     },
     "execution_count": 45,
     "metadata": {},
     "output_type": "execute_result"
    }
   ],
   "source": [
    "netarc"
   ]
  },
  {
   "cell_type": "code",
   "execution_count": 48,
   "id": "902ef622-caf6-428d-9442-b274ad7b5412",
   "metadata": {},
   "outputs": [
    {
     "data": {
      "text/plain": [
       "int"
      ]
     },
     "execution_count": 48,
     "metadata": {},
     "output_type": "execute_result"
    }
   ],
   "source": [
    "type(netarc[0][0])"
   ]
  },
  {
   "cell_type": "code",
   "execution_count": 2,
   "id": "86c95fc6-5181-462d-96d0-135cae7abcaa",
   "metadata": {},
   "outputs": [],
   "source": [
    "import itertools"
   ]
  },
  {
   "cell_type": "code",
   "execution_count": 3,
   "id": "cf8e7e7b-3e18-4f01-a27a-71819cc21c82",
   "metadata": {},
   "outputs": [],
   "source": [
    "list2 = ['a','b','c']"
   ]
  },
  {
   "cell_type": "code",
   "execution_count": 5,
   "id": "fa8b65e3-9c94-4e6f-9f6e-b1fee7f16f75",
   "metadata": {},
   "outputs": [
    {
     "data": {
      "text/plain": [
       "[('a', 'b'), ('a', 'c'), ('b', 'c')]"
      ]
     },
     "execution_count": 5,
     "metadata": {},
     "output_type": "execute_result"
    }
   ],
   "source": [
    "list(itertools.combinations(list2, 2))"
   ]
  },
  {
   "cell_type": "code",
   "execution_count": 7,
   "id": "38a12c19-e84c-4dff-9ee6-b6d859e5e2ed",
   "metadata": {},
   "outputs": [
    {
     "name": "stdout",
     "output_type": "stream",
     "text": [
      "[10]\n",
      "[5]\n",
      "['Hi']\n"
     ]
    }
   ],
   "source": [
    "from itertools import combinations\n",
    "A = [10, 5, 'Hi']\n",
    "temp = combinations(A, 1)\n",
    "for i in list(temp):\n",
    "\tprint (list(i))"
   ]
  },
  {
   "cell_type": "code",
   "execution_count": null,
   "id": "2e2224a9-f7cf-40d8-a8e8-698fe8e56706",
   "metadata": {},
   "outputs": [],
   "source": []
  }
 ],
 "metadata": {
  "kernelspec": {
   "display_name": "Python 3",
   "language": "python",
   "name": "python3"
  },
  "language_info": {
   "codemirror_mode": {
    "name": "ipython",
    "version": 3
   },
   "file_extension": ".py",
   "mimetype": "text/x-python",
   "name": "python",
   "nbconvert_exporter": "python",
   "pygments_lexer": "ipython3",
   "version": "3.7.11"
  }
 },
 "nbformat": 4,
 "nbformat_minor": 5
}
