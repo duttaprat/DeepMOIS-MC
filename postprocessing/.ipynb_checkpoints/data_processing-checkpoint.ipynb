{
 "cells": [
  {
   "cell_type": "code",
   "execution_count": 31,
   "id": "cef95dcc-a8ce-4490-9fe7-9c40a849963e",
   "metadata": {},
   "outputs": [],
   "source": [
    "FILE_DIR = \"/home/pdutta/DGCCA/results/embeddings\"\n",
    "FINAL_EMBEDDING_DIR= \"/home/pdutta/DGCCA/results/final_embeddings\""
   ]
  },
  {
   "cell_type": "code",
   "execution_count": 32,
   "id": "2f2f34a7-053c-4183-a21a-8bd10059967e",
   "metadata": {},
   "outputs": [],
   "source": [
    "#import torch\n",
    "import re\n",
    "import os\n",
    "import numpy as np\n",
    "from os import listdir\n",
    "from os.path import isfile, join"
   ]
  },
  {
   "cell_type": "code",
   "execution_count": 33,
   "id": "f01fc460-b602-43d2-95f8-72879cb20c05",
   "metadata": {},
   "outputs": [],
   "source": [
    "def sorted_alphanumeric(data):\n",
    "    convert = lambda text: int(text) if text.isdigit() else text.lower()\n",
    "    alphanum_key = lambda key: [ convert(c) for c in re.split('([0-9]+)', key) ] \n",
    "    return sorted(data, key=alphanum_key)"
   ]
  },
  {
   "cell_type": "code",
   "execution_count": 34,
   "id": "78c5711a-999b-4f17-b217-82ef7e344042",
   "metadata": {},
   "outputs": [
    {
     "name": "stdout",
     "output_type": "stream",
     "text": [
      "['embedding_view_7.npy', 'embedding_view_5.npy', 'embedding_view_13.npy', 'embedding_view_12.npy', 'embedding_view_10.npy', 'embedding_view_9.npy', 'embedding_view_14.npy', 'embedding_view_4.npy', 'embedding_view_6.npy', 'embedding_view_16.npy', 'embedding_view_8.npy', 'embedding_view_15.npy', 'embedding_view_3.npy', 'embedding_view_11.npy', 'embedding_view_0.npy']\n"
     ]
    }
   ],
   "source": [
    "all_filenames = [f for f in listdir(FILE_DIR) if isfile(join(FILE_DIR, f))]\n",
    "print(all_filenames)\n",
    "for file in sorted_alphanumeric(all_filenames)[:-2]:\n",
    "    file_path = join(FILE_DIR, file)\n",
    "    os.remove(file_path)"
   ]
  },
  {
   "cell_type": "code",
   "execution_count": 35,
   "id": "c56cff89-2641-498a-89a2-772b4f9d476d",
   "metadata": {},
   "outputs": [
    {
     "data": {
      "text/plain": [
       "['.ipynb_checkpoints', 'embedding_view_16.npy', 'embedding_view_15.npy']"
      ]
     },
     "execution_count": 35,
     "metadata": {},
     "output_type": "execute_result"
    }
   ],
   "source": [
    "listdir(FILE_DIR)"
   ]
  },
  {
   "cell_type": "code",
   "execution_count": 36,
   "id": "11d9f04b-de8f-44e0-833d-4e69b3482e50",
   "metadata": {},
   "outputs": [
    {
     "name": "stdout",
     "output_type": "stream",
     "text": [
      ".ipynb_checkpoints\n",
      "embedding_view_15.npy\n",
      "[[-0.00412618 -0.03593134 -0.03269572 ...  0.00239246 -0.01016012\n",
      "  -0.00205606]\n",
      " [-0.00889817  0.02529593  0.02991373 ... -0.02959584  0.0027338\n",
      "   0.02519894]\n",
      " [ 0.02041897  0.03920851  0.01639615 ...  0.0335327   0.01509838\n",
      "   0.01818908]\n",
      " ...\n",
      " [ 0.01843902  0.02506232  0.0288384  ... -0.02987285  0.08010943\n",
      "  -0.01223685]\n",
      " [-0.01895016 -0.00236793  0.01845924 ... -0.01740245 -0.03681718\n",
      "  -0.03218799]\n",
      " [-0.07651205  0.0205119   0.00685308 ... -0.0484067   0.01529103\n",
      "   0.05016377]]\n",
      "987\n",
      "embedding_view_16.npy\n",
      "[[-0.06379991 -0.06367359 -0.0637821  ... -0.06378978 -0.06380086\n",
      "  -0.06382107]\n",
      " [ 0.03731205  0.04159508 -0.09622277 ... -0.03127538  0.02151656\n",
      "  -0.00960102]\n",
      " [ 0.00309274 -0.00453529 -0.01689873 ... -0.02955993  0.01382254\n",
      "  -0.04006407]\n",
      " ...\n",
      " [-0.01917058  0.08480605 -0.01113128 ...  0.00654532  0.00429377\n",
      "   0.00263847]\n",
      " [ 0.04374522 -0.0429991   0.00866035 ...  0.02749185  0.02701933\n",
      "   0.03616089]\n",
      " [ 0.04507725 -0.08267483 -0.01191929 ... -0.01282034 -0.00434966\n",
      "  -0.02667039]]\n",
      "246\n"
     ]
    }
   ],
   "source": [
    "temp = []\n",
    "for file in sorted_alphanumeric(listdir(FILE_DIR)):\n",
    "    print(file)\n",
    "    if (file.endswith(\".npy\")):\n",
    "        file_path = join(FILE_DIR, file)\n",
    "        X= np.load(file_path)\n",
    "        print (X)\n",
    "        print (len(X))\n",
    "        temp.append(X)"
   ]
  },
  {
   "cell_type": "code",
   "execution_count": 37,
   "id": "1e0e3820-67b4-49ad-97da-92d7724fe1d6",
   "metadata": {},
   "outputs": [],
   "source": [
    "emb = np.vstack(temp)"
   ]
  },
  {
   "cell_type": "code",
   "execution_count": 38,
   "id": "07eb30c5-08af-4149-9fd2-5a282c6c72dc",
   "metadata": {},
   "outputs": [
    {
     "data": {
      "text/plain": [
       "array([[-0.00412618, -0.03593134, -0.03269572, ...,  0.00239246,\n",
       "        -0.01016012, -0.00205606],\n",
       "       [-0.00889817,  0.02529593,  0.02991373, ..., -0.02959584,\n",
       "         0.0027338 ,  0.02519894],\n",
       "       [ 0.02041897,  0.03920851,  0.01639615, ...,  0.0335327 ,\n",
       "         0.01509838,  0.01818908],\n",
       "       ...,\n",
       "       [-0.01917058,  0.08480605, -0.01113128, ...,  0.00654532,\n",
       "         0.00429377,  0.00263847],\n",
       "       [ 0.04374522, -0.0429991 ,  0.00866035, ...,  0.02749185,\n",
       "         0.02701933,  0.03616089],\n",
       "       [ 0.04507725, -0.08267483, -0.01191929, ..., -0.01282034,\n",
       "        -0.00434966, -0.02667039]], dtype=float32)"
      ]
     },
     "execution_count": 38,
     "metadata": {},
     "output_type": "execute_result"
    }
   ],
   "source": [
    "emb"
   ]
  },
  {
   "cell_type": "code",
   "execution_count": 39,
   "id": "c5a9c0f0-755d-4248-9f21-0e35d8d8d874",
   "metadata": {},
   "outputs": [
    {
     "data": {
      "text/plain": [
       "1233"
      ]
     },
     "execution_count": 39,
     "metadata": {},
     "output_type": "execute_result"
    }
   ],
   "source": [
    "len(emb)"
   ]
  },
  {
   "cell_type": "code",
   "execution_count": 40,
   "id": "23432519-5487-40c5-ad34-d7667e32d861",
   "metadata": {},
   "outputs": [],
   "source": [
    "!mkdir -p $FINAL_EMBEDDING_DIR\n",
    "embedding_path = join(FINAL_EMBEDDING_DIR, \"final_embedding.npz\")\n",
    "np.savez(embedding_path, emb)"
   ]
  },
  {
   "cell_type": "code",
   "execution_count": 41,
   "id": "2f4fb468-65e6-4290-93a9-3fca7e25dd0a",
   "metadata": {},
   "outputs": [],
   "source": [
    "b = np.load(embedding_path)"
   ]
  },
  {
   "cell_type": "code",
   "execution_count": 42,
   "id": "58f3ba01-3a66-41b2-8ef3-340786d6868e",
   "metadata": {},
   "outputs": [
    {
     "data": {
      "text/plain": [
       "array([[-0.00412618, -0.03593134, -0.03269572, ...,  0.00239246,\n",
       "        -0.01016012, -0.00205606],\n",
       "       [-0.00889817,  0.02529593,  0.02991373, ..., -0.02959584,\n",
       "         0.0027338 ,  0.02519894],\n",
       "       [ 0.02041897,  0.03920851,  0.01639615, ...,  0.0335327 ,\n",
       "         0.01509838,  0.01818908],\n",
       "       ...,\n",
       "       [-0.01917058,  0.08480605, -0.01113128, ...,  0.00654532,\n",
       "         0.00429377,  0.00263847],\n",
       "       [ 0.04374522, -0.0429991 ,  0.00866035, ...,  0.02749185,\n",
       "         0.02701933,  0.03616089],\n",
       "       [ 0.04507725, -0.08267483, -0.01191929, ..., -0.01282034,\n",
       "        -0.00434966, -0.02667039]], dtype=float32)"
      ]
     },
     "execution_count": 42,
     "metadata": {},
     "output_type": "execute_result"
    }
   ],
   "source": [
    "b['arr_0']"
   ]
  },
  {
   "cell_type": "code",
   "execution_count": null,
   "id": "dee679f5-dbe4-4186-8414-9da59b1bbf9d",
   "metadata": {},
   "outputs": [],
   "source": []
  }
 ],
 "metadata": {
  "kernelspec": {
   "display_name": "Python 3 (ipykernel)",
   "language": "python",
   "name": "python3"
  },
  "language_info": {
   "codemirror_mode": {
    "name": "ipython",
    "version": 3
   },
   "file_extension": ".py",
   "mimetype": "text/x-python",
   "name": "python",
   "nbconvert_exporter": "python",
   "pygments_lexer": "ipython3",
   "version": "3.10.4"
  }
 },
 "nbformat": 4,
 "nbformat_minor": 5
}
