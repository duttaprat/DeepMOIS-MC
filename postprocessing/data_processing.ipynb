{
 "cells": [
  {
   "cell_type": "code",
   "execution_count": 1,
   "id": "f01fc460-b602-43d2-95f8-72879cb20c05",
   "metadata": {},
   "outputs": [],
   "source": [
    "import re\n",
    "def sorted_alphanumeric(data):\n",
    "    convert = lambda text: int(text) if text.isdigit() else text.lower()\n",
    "    alphanum_key = lambda key: [ convert(c) for c in re.split('([0-9]+)', key) ] \n",
    "    return sorted(data, key=alphanum_key)"
   ]
  },
  {
   "cell_type": "code",
   "execution_count": 19,
   "id": "2f2f34a7-053c-4183-a21a-8bd10059967e",
   "metadata": {},
   "outputs": [],
   "source": [
    "import torch\n",
    "import numpy as np\n",
    "from os import listdir\n",
    "from os.path import isfile, join"
   ]
  },
  {
   "cell_type": "code",
   "execution_count": 3,
   "id": "78c5711a-999b-4f17-b217-82ef7e344042",
   "metadata": {},
   "outputs": [],
   "source": [
    "all_filenames = [f for f in listdir(\"../examples/embeddings\") if isfile(join(\"../examples/embeddings\", f))]"
   ]
  },
  {
   "cell_type": "code",
   "execution_count": 6,
   "id": "b7b36382-41a6-4899-9615-264aef626e2f",
   "metadata": {},
   "outputs": [
    {
     "data": {
      "text/plain": [
       "['embedding_view_7.npy',\n",
       " 'embedding_view_5.npy',\n",
       " 'embedding_view_10.npy',\n",
       " 'embedding_view_1.npy',\n",
       " 'embedding_view_9.npy',\n",
       " 'embedding_view_4.npy',\n",
       " 'embedding_view_6.npy',\n",
       " 'embedding_view_2.npy',\n",
       " 'embedding_view_8.npy',\n",
       " 'embedding_view_3.npy',\n",
       " 'embedding_view_0.npy']"
      ]
     },
     "execution_count": 6,
     "metadata": {},
     "output_type": "execute_result"
    }
   ],
   "source": [
    "#all_filenames"
   ]
  },
  {
   "cell_type": "code",
   "execution_count": 6,
   "id": "b5dd0e86-b266-48f3-a3e5-c482f4bbb126",
   "metadata": {},
   "outputs": [
    {
     "data": {
      "text/plain": [
       "['embedding_view_198.npy', 'embedding_view_199.npy', 'embedding_view_200.npy']"
      ]
     },
     "execution_count": 6,
     "metadata": {},
     "output_type": "execute_result"
    }
   ],
   "source": [
    "sorted_alphanumeric(all_filenames)[-3:]"
   ]
  },
  {
   "cell_type": "code",
   "execution_count": 20,
   "id": "11d9f04b-de8f-44e0-833d-4e69b3482e50",
   "metadata": {},
   "outputs": [
    {
     "name": "stdout",
     "output_type": "stream",
     "text": [
      "embedding_view_199.npy\n",
      "[[ 0.0004937  -0.04685969  0.03279225 ...  0.01131871  0.01925463\n",
      "   0.01817499]\n",
      " [-0.01582911 -0.00374661  0.04936786 ...  0.04891482 -0.01439126\n",
      "   0.04827209]\n",
      " [-0.00562402 -0.03607745  0.05482373 ...  0.02067257 -0.02452708\n",
      "   0.02684915]\n",
      " ...\n",
      " [ 0.03737227 -0.13092054  0.03512982 ... -0.0137063  -0.01196699\n",
      "   0.00107233]\n",
      " [ 0.01025032 -0.11865969  0.0839469  ...  0.01657699  0.04801618\n",
      "   0.05516839]\n",
      " [-0.02978084 -0.01684618 -0.01955128 ...  0.03976686 -0.00155486\n",
      "   0.041101  ]]\n",
      "987\n",
      "embedding_view_200.npy\n",
      "[[-0.00503975  0.00779563 -0.00050134 ...  0.00391093 -0.00622886\n",
      "   0.00643654]\n",
      " [-0.03196756 -0.03291153  0.10989529 ...  0.10686878 -0.0353545\n",
      "  -0.01885599]\n",
      " [-0.00413375 -0.02253784  0.01359259 ...  0.04477337 -0.00286504\n",
      "   0.03105721]\n",
      " ...\n",
      " [-0.00695578  0.02515894 -0.00272731 ...  0.00822091 -0.00648033\n",
      "  -0.02123139]\n",
      " [ 0.03656753 -0.04913883  0.01457653 ... -0.01058404 -0.01335351\n",
      "  -0.09504897]\n",
      " [-0.02759236  0.04461268 -0.03530677 ... -0.00605892 -0.05272878\n",
      "  -0.07473776]]\n",
      "246\n"
     ]
    }
   ],
   "source": [
    "temp = []\n",
    "for i in sorted_alphanumeric(all_filenames)[-2:]:\n",
    "    print(i)\n",
    "    file = \"../examples/embeddings/\"+ str(i)\n",
    "    X= np.load(file)\n",
    "    print (X)\n",
    "    print (len(X))\n",
    "    temp.append(X)"
   ]
  },
  {
   "cell_type": "code",
   "execution_count": 22,
   "id": "1710e24a-aab0-449e-ad6a-02b2f0f52678",
   "metadata": {},
   "outputs": [
    {
     "data": {
      "text/plain": [
       "[array([[ 0.0004937 , -0.04685969,  0.03279225, ...,  0.01131871,\n",
       "          0.01925463,  0.01817499],\n",
       "        [-0.01582911, -0.00374661,  0.04936786, ...,  0.04891482,\n",
       "         -0.01439126,  0.04827209],\n",
       "        [-0.00562402, -0.03607745,  0.05482373, ...,  0.02067257,\n",
       "         -0.02452708,  0.02684915],\n",
       "        ...,\n",
       "        [ 0.03737227, -0.13092054,  0.03512982, ..., -0.0137063 ,\n",
       "         -0.01196699,  0.00107233],\n",
       "        [ 0.01025032, -0.11865969,  0.0839469 , ...,  0.01657699,\n",
       "          0.04801618,  0.05516839],\n",
       "        [-0.02978084, -0.01684618, -0.01955128, ...,  0.03976686,\n",
       "         -0.00155486,  0.041101  ]], dtype=float32),\n",
       " array([[-0.00503975,  0.00779563, -0.00050134, ...,  0.00391093,\n",
       "         -0.00622886,  0.00643654],\n",
       "        [-0.03196756, -0.03291153,  0.10989529, ...,  0.10686878,\n",
       "         -0.0353545 , -0.01885599],\n",
       "        [-0.00413375, -0.02253784,  0.01359259, ...,  0.04477337,\n",
       "         -0.00286504,  0.03105721],\n",
       "        ...,\n",
       "        [-0.00695578,  0.02515894, -0.00272731, ...,  0.00822091,\n",
       "         -0.00648033, -0.02123139],\n",
       "        [ 0.03656753, -0.04913883,  0.01457653, ..., -0.01058404,\n",
       "         -0.01335351, -0.09504897],\n",
       "        [-0.02759236,  0.04461268, -0.03530677, ..., -0.00605892,\n",
       "         -0.05272878, -0.07473776]], dtype=float32)]"
      ]
     },
     "execution_count": 22,
     "metadata": {},
     "output_type": "execute_result"
    }
   ],
   "source": [
    "temp"
   ]
  },
  {
   "cell_type": "code",
   "execution_count": 23,
   "id": "1e0e3820-67b4-49ad-97da-92d7724fe1d6",
   "metadata": {},
   "outputs": [],
   "source": [
    "emb = np.vstack(temp)"
   ]
  },
  {
   "cell_type": "code",
   "execution_count": 26,
   "id": "07eb30c5-08af-4149-9fd2-5a282c6c72dc",
   "metadata": {},
   "outputs": [
    {
     "data": {
      "text/plain": [
       "array([[ 0.0004937 , -0.04685969,  0.03279225, ...,  0.01131871,\n",
       "         0.01925463,  0.01817499],\n",
       "       [-0.01582911, -0.00374661,  0.04936786, ...,  0.04891482,\n",
       "        -0.01439126,  0.04827209],\n",
       "       [-0.00562402, -0.03607745,  0.05482373, ...,  0.02067257,\n",
       "        -0.02452708,  0.02684915],\n",
       "       ...,\n",
       "       [-0.00695578,  0.02515894, -0.00272731, ...,  0.00822091,\n",
       "        -0.00648033, -0.02123139],\n",
       "       [ 0.03656753, -0.04913883,  0.01457653, ..., -0.01058404,\n",
       "        -0.01335351, -0.09504897],\n",
       "       [-0.02759236,  0.04461268, -0.03530677, ..., -0.00605892,\n",
       "        -0.05272878, -0.07473776]], dtype=float32)"
      ]
     },
     "execution_count": 26,
     "metadata": {},
     "output_type": "execute_result"
    }
   ],
   "source": [
    "emb"
   ]
  },
  {
   "cell_type": "code",
   "execution_count": 27,
   "id": "c5a9c0f0-755d-4248-9f21-0e35d8d8d874",
   "metadata": {},
   "outputs": [
    {
     "data": {
      "text/plain": [
       "1233"
      ]
     },
     "execution_count": 27,
     "metadata": {},
     "output_type": "execute_result"
    }
   ],
   "source": [
    "len(emb)"
   ]
  },
  {
   "cell_type": "code",
   "execution_count": 30,
   "id": "23432519-5487-40c5-ad34-d7667e32d861",
   "metadata": {},
   "outputs": [],
   "source": [
    "np.savez(\"../examples/final_embedding/final_embedding.npz\", emb)"
   ]
  },
  {
   "cell_type": "code",
   "execution_count": 31,
   "id": "2f4fb468-65e6-4290-93a9-3fca7e25dd0a",
   "metadata": {},
   "outputs": [],
   "source": [
    "b = np.load('../examples/final_embedding/final_embedding.npz')"
   ]
  },
  {
   "cell_type": "code",
   "execution_count": 34,
   "id": "58f3ba01-3a66-41b2-8ef3-340786d6868e",
   "metadata": {},
   "outputs": [
    {
     "data": {
      "text/plain": [
       "array([[ 0.0004937 , -0.04685969,  0.03279225, ...,  0.01131871,\n",
       "         0.01925463,  0.01817499],\n",
       "       [-0.01582911, -0.00374661,  0.04936786, ...,  0.04891482,\n",
       "        -0.01439126,  0.04827209],\n",
       "       [-0.00562402, -0.03607745,  0.05482373, ...,  0.02067257,\n",
       "        -0.02452708,  0.02684915],\n",
       "       ...,\n",
       "       [-0.00695578,  0.02515894, -0.00272731, ...,  0.00822091,\n",
       "        -0.00648033, -0.02123139],\n",
       "       [ 0.03656753, -0.04913883,  0.01457653, ..., -0.01058404,\n",
       "        -0.01335351, -0.09504897],\n",
       "       [-0.02759236,  0.04461268, -0.03530677, ..., -0.00605892,\n",
       "        -0.05272878, -0.07473776]], dtype=float32)"
      ]
     },
     "execution_count": 34,
     "metadata": {},
     "output_type": "execute_result"
    }
   ],
   "source": [
    "b['arr_0']"
   ]
  },
  {
   "cell_type": "code",
   "execution_count": 123,
   "id": "f54c7147-e469-435a-9cab-a9663de94851",
   "metadata": {},
   "outputs": [
    {
     "name": "stdout",
     "output_type": "stream",
     "text": [
      "file is here\n",
      "['embedding_view_7.npy', 'embedding_view_5.npy', 'embedding_view_10.npy', 'embedding_view_1.npy', 'embedding_view_9.npy', 'embedding_view_4.npy', 'embedding_view_6.npy', 'embedding_view_2.npy', 'embedding_view_8.npy', 'embedding_view_3.npy', 'embedding_view_0.npy']\n",
      "['embedding_view_0.npy', 'embedding_view_1.npy', 'embedding_view_10.npy', 'embedding_view_2.npy', 'embedding_view_3.npy', 'embedding_view_4.npy', 'embedding_view_5.npy', 'embedding_view_6.npy', 'embedding_view_7.npy', 'embedding_view_8.npy', 'embedding_view_9.npy']\n",
      "10\n"
     ]
    }
   ],
   "source": [
    "if my_file.is_file():\n",
    "    print (\"file is here\")\n",
    "    all_filenames = [f for f in listdir(\"../examples/embeddings\") if isfile(join(\"../examples/embeddings\", f))]\n",
    "    print (all_filenames)\n",
    "    all_filenames.sort()\n",
    "    print (all_filenames)\n",
    "    latest_file = all_filenames[-1]\n",
    "    print(str(int(latest_file.split(\".\")[0].split(\"_\")[2])+1))\n",
    "    file = \"../examples/embeddings/embedding_view_\"+ str(int(latest_file.split(\".\")[0].split(\"_\")[2])+1)+\".npy\"\n",
    "else:\n",
    "    file = '../examples/embeddings/embedding_view_0.npy'\n",
    "f = open(file, 'wb')"
   ]
  },
  {
   "cell_type": "code",
   "execution_count": null,
   "id": "4024b18a-6df0-4cd3-80a0-01b115733b8d",
   "metadata": {},
   "outputs": [],
   "source": []
  },
  {
   "cell_type": "code",
   "execution_count": null,
   "id": "a659feb4-62a9-4629-b2ef-1abecb10d107",
   "metadata": {},
   "outputs": [],
   "source": []
  }
 ],
 "metadata": {
  "kernelspec": {
   "display_name": "Python 3 (ipykernel)",
   "language": "python",
   "name": "python3"
  },
  "language_info": {
   "codemirror_mode": {
    "name": "ipython",
    "version": 3
   },
   "file_extension": ".py",
   "mimetype": "text/x-python",
   "name": "python",
   "nbconvert_exporter": "python",
   "pygments_lexer": "ipython3",
   "version": "3.10.4"
  }
 },
 "nbformat": 4,
 "nbformat_minor": 5
}
